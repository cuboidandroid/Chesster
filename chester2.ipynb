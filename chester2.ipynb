{
 "cells": [
  {
   "cell_type": "code",
   "execution_count": 1,
   "metadata": {},
   "outputs": [],
   "source": [
    "import numpy as np\n",
    "import matplotlib.pyplot as plt"
   ]
  },
  {
   "cell_type": "code",
   "execution_count": 2,
   "metadata": {},
   "outputs": [
    {
     "data": {
      "text/plain": [
       "array([[ -5,  -3,  -3,  -9, -10,  -3,  -3,  -5],\n",
       "       [ -1,  -1,  -1,  -1,  -1,  -1,  -1,  -1],\n",
       "       [  0,   0,   0,   0,   0,   0,   0,   0],\n",
       "       [  0,   0,   0,   0,   0,   0,   0,   0],\n",
       "       [  0,   0,   0,   0,   0,   0,   0,   0],\n",
       "       [  0,   0,   0,   0,   0,   0,   0,   0],\n",
       "       [  1,   1,   1,   1,   1,   1,   1,   1],\n",
       "       [  5,   3,   3,   9,  10,   3,   3,   5]])"
      ]
     },
     "execution_count": 2,
     "metadata": {},
     "output_type": "execute_result"
    }
   ],
   "source": [
    "board = np.zeros((8,8)).astype(int)\n",
    "board[7][:] = [5,3,3,9,10,3,3,5] \n",
    "board[6][:] = [1,1,1,1,1,1,1,1] \n",
    "board[0][:] = -board[7][:]\n",
    "board[1][:] = -board[6][:]\n",
    "board"
   ]
  },
  {
   "cell_type": "code",
   "execution_count": 4,
   "metadata": {},
   "outputs": [],
   "source": [
    "def setup_board():\n",
    "    board = np.zeros((8, 8)).astype(int)\n",
    "    board[7][:] = [5, 3, 3, 9, 10, 3, 3, 5]\n",
    "    board[6][:] = [1, 1, 1, 1, 1, 1, 1, 1]\n",
    "    board[0][:] = -board[7][:]\n",
    "    board[1][:] = -board[6][:]\n",
    "    return board\n",
    "\n",
    "\n",
    "def bishop(x, y):\n",
    "    return {(x + n, y + n) for n in range(-7, 8) if n != 0 and 0 <= x + n < 8 and 0 <= y + n < 8} | \\\n",
    "           {(x + n, y - n) for n in range(-7, 8) if n != 0 and 0 <= x + n < 8 and 0 <= y - n < 8}\n",
    "\n",
    "\n",
    "def rook(x, y):\n",
    "    return {(x + n, y) for n in range(-7, 8) if n != 0 and 0 <= x + n < 8} | \\\n",
    "           {(x, y + n) for n in range(-7, 8) if n != 0 and 0 <= y + n < 8}\n",
    "\n",
    "\n",
    "def queen(x, y):\n",
    "    return bishop(x, y) | rook(x, y)\n",
    "\n",
    "\n",
    "def knight(x, y):\n",
    "    return {(x + i, y + j) for i, j in zip([1, 2, -1, -2, 1, 2, -1, -2], [2, 1, 2, 1, -2, -1, -2, -1])\n",
    "            if 0 <= x + i < 8 and 0 <= y + j < 8}\n",
    "\n",
    "\n",
    "def king(x, y):\n",
    "    return {(x + i, y + j) for i, j in zip([-1, 0, 1, -1, 0, 1, -1, 0, 1], [-1, -1, -1, 0, 0, 0, 1, 1, 1])\n",
    "            if 0 <= x + i < 8 and 0 <= y + j < 8}\n",
    "\n",
    "\n",
    "def wpawn(x, y):\n",
    "    out = set()\n",
    "    if y > 1:\n",
    "        out.add((x - 1, y))\n",
    "        if x == 6:\n",
    "            out.add((x - 2, y))\n",
    "    if y == 1:  # promotion\n",
    "        pass\n",
    "    return out\n",
    "\n",
    "\n",
    "def bpawn(x, y):\n",
    "    out = set()\n",
    "    if y < 6:\n",
    "        out.add((x + 1, y))\n",
    "        if x == 1:\n",
    "            out.add((x + 2, y))\n",
    "    if y == 6:  # promotion\n",
    "        pass\n",
    "    return out\n"
   ]
  },
  {
   "cell_type": "code",
   "execution_count": 28,
   "metadata": {},
   "outputs": [
    {
     "data": {
      "text/plain": [
       "array([[1., 0., 0., 0., 0., 0., 1., 0.],\n",
       "       [0., 1., 0., 0., 0., 1., 0., 0.],\n",
       "       [0., 0., 1., 0., 1., 0., 0., 0.],\n",
       "       [0., 0., 0., 0., 0., 0., 0., 0.],\n",
       "       [0., 0., 1., 0., 1., 0., 0., 0.],\n",
       "       [0., 1., 0., 0., 0., 1., 0., 0.],\n",
       "       [1., 0., 0., 0., 0., 0., 1., 0.],\n",
       "       [0., 0., 0., 0., 0., 0., 0., 1.]])"
      ]
     },
     "execution_count": 28,
     "metadata": {},
     "output_type": "execute_result"
    }
   ],
   "source": [
    "ind = np.array(list(zip(*bishop(3,3))))\n",
    "mask[ind[0], ind[1]]=1\n",
    "mask"
   ]
  },
  {
   "cell_type": "code",
   "execution_count": 3,
   "metadata": {},
   "outputs": [
    {
     "data": {
      "image/png": "[encoded data removed]",
      "text/plain": [
       "<Figure size 1080x720 with 6 Axes>"
      ]
     },
     "metadata": {
      "needs_background": "light"
     },
     "output_type": "display_data"
    }
   ],
   "source": [
    "ex, ey = 4, 4\n",
    "\n",
    "f, axs = plt.subplots(2, 3)\n",
    "f.set_figheight(10)\n",
    "f.set_figwidth(15)\n",
    "\n",
    "visu = np.zeros((8,8))\n",
    "ind = np.array(list(zip(*bishop(ex,ey))))\n",
    "visu[ind[0], ind[1]]=1\n",
    "visu[ex,ey] = 2\n",
    "    \n",
    "axs[0, 0].imshow(visu)\n",
    "    \n",
    "visu = np.zeros((8,8))\n",
    "ind = np.array(list(zip(*rook(ex,ey))))\n",
    "visu[ind[0], ind[1]]=1\n",
    "visu[ex,ey] = 2\n",
    "    \n",
    "axs[0, 1].imshow(visu)\n",
    "    \n",
    "visu = np.zeros((8,8))\n",
    "ind = np.array(list(zip(*queen(ex,ey))))\n",
    "visu[ind[0], ind[1]]=1\n",
    "visu[ex,ey] = 2\n",
    "    \n",
    "axs[0, 2].imshow(visu)\n",
    "\n",
    "visu = np.zeros((8,8))\n",
    "ind = np.array(list(zip(*knight(ex,ey))))\n",
    "visu[ind[0], ind[1]]=1\n",
    "visu[ex,ey] = 2\n",
    "    \n",
    "axs[1, 0].imshow(visu)\n",
    "\n",
    "visu = np.zeros((8,8))\n",
    "ind = np.array(list(zip(*king(ex,ey))))\n",
    "visu[ind[0], ind[1]]=1\n",
    "visu[ex,ey] = 2\n",
    "    \n",
    "axs[1, 1].imshow(visu)\n",
    "\n",
    "visu = np.zeros((8,8))\n",
    "ind = np.array(list(zip(*wpawn(ex,ey))))\n",
    "visu[ind[0], ind[1]]=1\n",
    "visu[ex,ey] = 2\n",
    "    \n",
    "axs[1, 2].imshow(visu)\n",
    "plt.show()"
   ]
  },
  {
   "cell_type": "code",
   "execution_count": null,
   "metadata": {},
   "outputs": [],
   "source": []
  }
 ],
 "metadata": {
  "hide_input": false,
  "kernelspec": {
   "display_name": "Python 3",
   "language": "python",
   "name": "python3"
  },
  "language_info": {
   "codemirror_mode": {
    "name": "ipython",
    "version": 3
   },
   "file_extension": ".py",
   "mimetype": "text/x-python",
   "name": "python",
   "nbconvert_exporter": "python",
   "pygments_lexer": "ipython3",
   "version": "3.8.5"
  },
  "toc": {
   "base_numbering": 1,
   "nav_menu": {},
   "number_sections": true,
   "sideBar": true,
   "skip_h1_title": false,
   "title_cell": "Table of Contents",
   "title_sidebar": "Contents",
   "toc_cell": false,
   "toc_position": {},
   "toc_section_display": true,
   "toc_window_display": false
  }
 },
 "nbformat": 4,
 "nbformat_minor": 4
}
