{
 "cells": [
  {
   "cell_type": "markdown",
   "metadata": {},
   "source": [
    "## The goal of this project is to develop chess program that can play chess and possibly to play it well. "
   ]
  },
  {
   "cell_type": "markdown",
   "metadata": {},
   "source": [
    "### Pieces locations in starting position"
   ]
  },
  {
   "cell_type": "code",
   "execution_count": 1,
   "metadata": {},
   "outputs": [],
   "source": [
    "pieces = {'wR1':bin(2**0), 'wp1':bin(2**8), 'bR1':bin(2**56), 'bp1':bin(2**48),\n",
    "          'wN1':bin(2**1), 'wp2':bin(2**9), 'bN1':bin(2**57), 'bp2':bin(2**49),\n",
    "          'wB1':bin(2**2), 'wp3':bin(2**10), 'bB1':bin(2**58), 'bp3':bin(2**50),\n",
    "          'wQ':bin(2**3), 'wp4':bin(2**11), 'bQ':bin(2**59), 'bp4':bin(2**51),\n",
    "          'wK':bin(2**4), 'wp5':bin(2**12), 'bK':bin(2**60), 'bp5':bin(2**52),\n",
    "          'wB2':bin(2**5), 'wp6':bin(2**13), 'bB2':bin(2**61), 'bp6':bin(2**53),\n",
    "          'wN2':bin(2**6), 'wp7':bin(2**14), 'bN2':bin(2**62), 'bp7':bin(2**54),\n",
    "          'wR2':bin(2**7), 'wp8':bin(2**15), 'bR2':bin(2**63), 'bp8':bin(2**55),\n",
    "         }"
   ]
  },
  {
   "cell_type": "markdown",
   "metadata": {},
   "source": [
    "### Chessboard visualisation"
   ]
  },
  {
   "cell_type": "code",
   "execution_count": 2,
   "metadata": {},
   "outputs": [],
   "source": [
    "import math\n",
    "import numpy as np"
   ]
  },
  {
   "cell_type": "code",
   "execution_count": 3,
   "metadata": {},
   "outputs": [],
   "source": [
    "def set_up_board(pieces_d): # pieces in dictionary\n",
    "    output = np.chararray((8,8), unicode=True, itemsize=2)\n",
    "    output[:] = '__'\n",
    "    for piece in pieces_d.keys():\n",
    "        num = math.log2(int(pieces_d[piece], 2))+1\n",
    "        output[(7-int(math.ceil(num/8)-1), int((num-1) % 8))] = piece\n",
    "    return output\n",
    "\n",
    "def mark_on_board(fields): #visualisation purposes - find legal moves etc.\n",
    "    output = np.chararray((8,8), unicode=True, itemsize=2)\n",
    "    output[:] = '__'\n",
    "    for field in fields:\n",
    "        num = math.log2(field)+1\n",
    "        output[(7-int(math.ceil(num/8)-1), int((num-1) % 8))] = '<>'\n",
    "    return output\n",
    "\n",
    "def disp_board(board):\n",
    "    for i in range(8):\n",
    "        print('')\n",
    "        for j in range(8):\n",
    "            print(board[(i,j)] + ' ', end='')"
   ]
  },
  {
   "cell_type": "code",
   "execution_count": 4,
   "metadata": {},
   "outputs": [
    {
     "name": "stdout",
     "output_type": "stream",
     "text": [
      "\n",
      "bR bN bB bQ bK bB bN bR \n",
      "bp bp bp bp bp bp bp bp \n",
      "__ __ __ __ __ __ __ __ \n",
      "__ __ __ __ __ __ __ __ \n",
      "__ __ __ __ __ __ __ __ \n",
      "__ __ __ __ __ __ __ __ \n",
      "wp wp wp wp wp wp wp wp \n",
      "wR wN wB wQ wK wB wN wR "
     ]
    }
   ],
   "source": [
    "board = set_up_board(pieces)\n",
    "disp_board(board)"
   ]
  },
  {
   "cell_type": "markdown",
   "metadata": {},
   "source": [
    "### Pieces moves"
   ]
  },
  {
   "cell_type": "code",
   "execution_count": 5,
   "metadata": {},
   "outputs": [],
   "source": [
    "def bishop_pattern(placement): \n",
    "    \n",
    "    move_span = []\n",
    "    num = int(math.log2(placement))\n",
    "    perm = np.array([1,1,1,1])\n",
    "    \n",
    "    #board edges\n",
    "    lower_b = [0,1,2,3,4,5,6,7]\n",
    "    upper_b = [56,57,58,59,60,61,62,63]\n",
    "    left_b = [0,8,16,24,32,40,48,56]\n",
    "    right_b = [7,15,23,31,39,47,55,63]\n",
    "    \n",
    "    #find if ur on the edge of board\n",
    "    if num in lower_b:\n",
    "        perm = perm & [1,1,0,0]\n",
    "        \n",
    "    if num in upper_b:\n",
    "        perm = perm & [0,0,1,1]\n",
    "        \n",
    "    if num in left_b:\n",
    "        perm = perm & [0,1,0,1]\n",
    "        \n",
    "    if num in right_b:\n",
    "        perm = perm & [1,0,1,0]\n",
    "    \n",
    "    #search in allowed directions\n",
    "    for i in range(1,8):\n",
    "        \n",
    "        if perm[0]:\n",
    "            up_left = placement << 7*i\n",
    "            move_span.append(up_left)\n",
    "            if int(math.log2(up_left)) in upper_b + left_b:\n",
    "                perm[0] = 0\n",
    "            \n",
    "        if perm[1]:\n",
    "            up_right = placement << 9*i\n",
    "            move_span.append(up_right)\n",
    "            if int(math.log2(up_right)) in upper_b + right_b:\n",
    "                perm[1] = 0\n",
    "        \n",
    "        if perm[2]:\n",
    "            down_left = placement >> 9*i\n",
    "            move_span.append(down_left)\n",
    "            if int(math.log2(down_left)) in lower_b + left_b:\n",
    "                perm[2] = 0\n",
    "            \n",
    "        if perm[3]:\n",
    "            down_right = placement >> 7*i\n",
    "            move_span.append(down_right)\n",
    "            if int(math.log2(down_right)) in lower_b + right_b:\n",
    "                perm[3] = 0\n",
    "                \n",
    "    return move_span    "
   ]
  },
  {
   "cell_type": "code",
   "execution_count": 6,
   "metadata": {},
   "outputs": [
    {
     "name": "stdout",
     "output_type": "stream",
     "text": [
      "\n",
      "__ __ __ __ __ __ __ <> \n",
      "__ __ __ __ __ __ <> __ \n",
      "__ __ __ __ __ <> __ __ \n",
      "<> __ __ __ <> __ __ __ \n",
      "__ <> __ <> __ __ __ __ \n",
      "__ __ __ __ __ __ __ __ \n",
      "__ <> __ <> __ __ __ __ \n",
      "<> __ __ __ <> __ __ __ "
     ]
    }
   ],
   "source": [
    "disp_board(mark_on_board(bishop_pattern(2**18)))"
   ]
  },
  {
   "cell_type": "code",
   "execution_count": 9,
   "metadata": {},
   "outputs": [
    {
     "data": {
      "text/plain": [
       "[33554432,\n",
       " 134217728,\n",
       " 512,\n",
       " 2048,\n",
       " 4294967296,\n",
       " 68719476736,\n",
       " 1,\n",
       " 16,\n",
       " 35184372088832,\n",
       " 18014398509481984,\n",
       " 9223372036854775808]"
      ]
     },
     "execution_count": 9,
     "metadata": {},
     "output_type": "execute_result"
    }
   ],
   "source": [
    "bishop_pattern(2**18)"
   ]
  },
  {
   "cell_type": "code",
   "execution_count": 10,
   "metadata": {},
   "outputs": [],
   "source": [
    "def rook_pattern(placement):    \n",
    "    move_span = []\n",
    "    placenum = int(math.log2(placement))\n",
    "    start = placenum - placenum % 8\n",
    "    \n",
    "    #vertical line\n",
    "    for i in range(1,8): \n",
    "        if placement << 8*i <= 2**63:\n",
    "            move_span.append(placement << 8*i)\n",
    "        if placement >> 8*i >= 1:\n",
    "            move_span.append(placement >> 8*i)\n",
    "    \n",
    "    #horizontal line\n",
    "    for i in range(0,8):\n",
    "         move_span.append(2**start << i)\n",
    "        \n",
    "    return move_span"
   ]
  },
  {
   "cell_type": "code",
   "execution_count": 11,
   "metadata": {},
   "outputs": [
    {
     "name": "stdout",
     "output_type": "stream",
     "text": [
      "\n",
      "<> __ __ __ __ __ __ __ \n",
      "<> __ __ __ __ __ __ __ \n",
      "<> __ __ __ __ __ __ __ \n",
      "<> __ __ __ __ __ __ __ \n",
      "<> __ __ __ __ __ __ __ \n",
      "<> __ __ __ __ __ __ __ \n",
      "<> <> <> <> <> <> <> <> \n",
      "<> __ __ __ __ __ __ __ "
     ]
    }
   ],
   "source": [
    "disp_board(mark_on_board(rook_pattern(2**8)))"
   ]
  },
  {
   "cell_type": "code",
   "execution_count": 12,
   "metadata": {},
   "outputs": [],
   "source": [
    "def queen_pattern(placement):\n",
    "    return list(set(rook_pattern(placement) + bishop_pattern(placement)))"
   ]
  },
  {
   "cell_type": "code",
   "execution_count": 13,
   "metadata": {},
   "outputs": [
    {
     "name": "stdout",
     "output_type": "stream",
     "text": [
      "\n",
      "__ <> __ <> __ <> __ __ \n",
      "__ __ <> <> <> __ __ __ \n",
      "<> <> <> <> <> <> <> <> \n",
      "__ __ <> <> <> __ __ __ \n",
      "__ <> __ <> __ <> __ __ \n",
      "<> __ __ <> __ __ <> __ \n",
      "__ __ __ <> __ __ __ <> \n",
      "__ __ __ <> __ __ __ __ "
     ]
    }
   ],
   "source": [
    "disp_board(mark_on_board(queen_pattern(2**43)))"
   ]
  },
  {
   "cell_type": "code",
   "execution_count": 14,
   "metadata": {},
   "outputs": [],
   "source": [
    "def knight_pattern(placement): \n",
    "    \n",
    "    move_span = []\n",
    "    num = int(math.log2(placement))\n",
    "    perm = np.array([1,1,1,1,1,1,1,1])\n",
    "    \n",
    "    lower_b = [0,1,2,3,4,5,6,7]\n",
    "    upper_b = [56,57,58,59,60,61,62,63]\n",
    "    left_b = [0,8,16,24,32,40,48,56]\n",
    "    right_b = [7,15,23,31,39,47,55,63]\n",
    "    \n",
    "    second = [8,9,10,11,12,13,14,15]\n",
    "    seventh = [48,49,50,51,52,53,54,55]\n",
    "    b_file = [1,9,17,25,33,41,49,57]\n",
    "    g_file = [6,14,22,30,38,46,54,62]\n",
    "    \n",
    "    changes=[10,17,15,6,10,17,15,6]\n",
    "    \n",
    "    if num in lower_b:\n",
    "        perm = perm & [0,0,0,0,1,1,1,1]\n",
    "        \n",
    "    if num in upper_b:\n",
    "        perm = perm & [1,1,1,1,0,0,0,0]\n",
    "        \n",
    "    if num in left_b:\n",
    "        perm = perm & [0,0,1,1,1,1,0,0]\n",
    "        \n",
    "    if num in right_b:\n",
    "        perm = perm & [1,1,0,0,0,0,1,1]\n",
    "        \n",
    "    if num in lower_b:\n",
    "        perm = perm & [0,0,0,0,1,1,1,1]\n",
    "        \n",
    "    if num in second:\n",
    "        perm = perm & [1,0,0,1,1,1,1,1]\n",
    "        \n",
    "    if num in seventh:\n",
    "        perm = perm & [1,1,1,1,1,0,0,1]\n",
    "        \n",
    "    if num in b_file:\n",
    "        perm = perm & [0,1,1,1,1,1,1,0]\n",
    "        \n",
    "    if num in g_file:\n",
    "        perm = perm & [1,1,1,0,0,1,1,1]\n",
    "              \n",
    "    for i in range(4):\n",
    "        if perm[i]:\n",
    "            move_span.append(placement >> changes[i])\n",
    "    for i in range(4,8):\n",
    "        if perm[i]:\n",
    "            move_span.append(placement << changes[i])\n",
    "            \n",
    "    return move_span"
   ]
  },
  {
   "cell_type": "code",
   "execution_count": 15,
   "metadata": {},
   "outputs": [
    {
     "name": "stdout",
     "output_type": "stream",
     "text": [
      "\n",
      "__ __ __ __ __ __ __ __ \n",
      "__ __ __ __ __ __ __ __ \n",
      "__ __ __ __ __ __ __ __ \n",
      "__ __ __ __ __ __ __ __ \n",
      "<> __ <> __ __ __ __ __ \n",
      "__ __ __ <> __ __ __ __ \n",
      "__ __ __ __ __ __ __ __ \n",
      "__ __ __ <> __ __ __ __ "
     ]
    }
   ],
   "source": [
    "disp_board(mark_on_board(knight_pattern(2**9)))"
   ]
  },
  {
   "cell_type": "code",
   "execution_count": null,
   "metadata": {},
   "outputs": [],
   "source": [
    "def pawn_pattern(placement):\n",
    "    \n",
    "    move_span = []\n",
    "    lower_b = [0,1,2,3,4,5,6,7]\n",
    "    upper_b = [56,57,58,59,60,61,62,63]\n",
    "    second = [8,9,10,11,12,13,14,15]\n",
    "    seventh = [48,49,50,51,52,53,54,55]\n",
    "    num = int(math.log2(placement))\n",
    "    \n",
    "    #check what color is the pawn\n",
    "    \n",
    "    if pawn=='wp':\n",
    "        if num in second:\n",
    "            move_span.append(placement << 16)\n",
    "        if num not in upper_b + lower_b:\n",
    "            move_span.append(placement << 8)\n",
    "            \n",
    "    if pawn=='bp':\n",
    "        if num in seventh:\n",
    "            move_span.append(placement << 16)\n",
    "        if num not in upper_b + lower_b:\n",
    "            move_span.append(placement << 8)\n",
    "    "
   ]
  },
  {
   "cell_type": "code",
   "execution_count": 16,
   "metadata": {},
   "outputs": [
    {
     "ename": "TypeError",
     "evalue": "'chararray' object is not callable",
     "output_type": "error",
     "traceback": [
      "\u001b[1;31m---------------------------------------------------------------------------\u001b[0m",
      "\u001b[1;31mTypeError\u001b[0m                                 Traceback (most recent call last)",
      "\u001b[1;32m<ipython-input-16-a723baefc78b>\u001b[0m in \u001b[0;36m<module>\u001b[1;34m\u001b[0m\n\u001b[1;32m----> 1\u001b[1;33m \u001b[0mboard\u001b[0m\u001b[1;33m(\u001b[0m\u001b[1;36m2\u001b[0m\u001b[1;33m**\u001b[0m\u001b[1;36m10\u001b[0m\u001b[1;33m)\u001b[0m\u001b[1;33m\u001b[0m\u001b[1;33m\u001b[0m\u001b[0m\n\u001b[0m",
      "\u001b[1;31mTypeError\u001b[0m: 'chararray' object is not callable"
     ]
    }
   ],
   "source": [
    "pieces(2**10)"
   ]
  },
  {
   "cell_type": "code",
   "execution_count": null,
   "metadata": {},
   "outputs": [],
   "source": []
  }
 ],
 "metadata": {
  "hide_input": false,
  "kernelspec": {
   "display_name": "Python 3",
   "language": "python",
   "name": "python3"
  },
  "language_info": {
   "codemirror_mode": {
    "name": "ipython",
    "version": 3
   },
   "file_extension": ".py",
   "mimetype": "text/x-python",
   "name": "python",
   "nbconvert_exporter": "python",
   "pygments_lexer": "ipython3",
   "version": "3.7.7"
  },
  "toc": {
   "base_numbering": 1,
   "nav_menu": {},
   "number_sections": true,
   "sideBar": true,
   "skip_h1_title": false,
   "title_cell": "Table of Contents",
   "title_sidebar": "Contents",
   "toc_cell": false,
   "toc_position": {},
   "toc_section_display": true,
   "toc_window_display": false
  }
 },
 "nbformat": 4,
 "nbformat_minor": 2
}
