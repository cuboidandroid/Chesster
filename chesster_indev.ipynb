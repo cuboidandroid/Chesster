{
 "cells": [
  {
   "cell_type": "markdown",
   "metadata": {},
   "source": [
    "## The goal of this project is to develop chess program that can play chess and possibly to play it well. "
   ]
  },
  {
   "cell_type": "markdown",
   "metadata": {},
   "source": [
    "### Pieces locations in starting position"
   ]
  },
  {
   "cell_type": "code",
   "execution_count": 142,
   "metadata": {},
   "outputs": [],
   "source": [
    "pieces = {'wR1':bin(2**0), 'wp1':bin(2**8), 'bR1':bin(2**56), 'bp1':bin(2**48),\n",
    "          'wN1':bin(2**1), 'wp2':bin(2**9), 'bN1':bin(2**57), 'bp2':bin(2**49),\n",
    "          'wB1':bin(2**2), 'wp3':bin(2**10), 'bB1':bin(2**58), 'bp3':bin(2**50),\n",
    "          'wQ':bin(2**3), 'wp4':bin(2**11), 'bQ':bin(2**59), 'bp4':bin(2**51),\n",
    "          'wK':bin(2**4), 'wp5':bin(2**12), 'bK':bin(2**60), 'bp5':bin(2**52),\n",
    "          'wB2':bin(2**5), 'wp6':bin(2**13), 'bB2':bin(2**61), 'bp6':bin(2**53),\n",
    "          'wN2':bin(2**6), 'wp7':bin(2**14), 'bN2':bin(2**62), 'bp7':bin(2**54),\n",
    "          'wR2':bin(2**7), 'wp8':bin(2**15), 'bR2':bin(2**63), 'bp8':bin(2**55),\n",
    "         }"
   ]
  },
  {
   "cell_type": "markdown",
   "metadata": {},
   "source": [
    "### Chessboard visualisation"
   ]
  },
  {
   "cell_type": "code",
   "execution_count": 122,
   "metadata": {},
   "outputs": [],
   "source": [
    "import math\n",
    "import numpy as np"
   ]
  },
  {
   "cell_type": "code",
   "execution_count": 155,
   "metadata": {},
   "outputs": [],
   "source": [
    "def set_up_board(pieces_d): # pieces in dictionary\n",
    "    output = np.chararray((8,8), unicode=True, itemsize=2)\n",
    "    output[:] = '__'\n",
    "    for piece in pieces_d.keys():\n",
    "        num = math.log2(int(pieces_d[piece], 2))+1\n",
    "        output[(7-int(math.ceil(num/8)-1), int((num-1) % 8))] = piece\n",
    "    return output\n",
    "\n",
    "def disp_board(board):\n",
    "    for i in range(8):\n",
    "        print('')\n",
    "        for j in range(8):\n",
    "            print(board[(i,j)] + ' ', end='')"
   ]
  },
  {
   "cell_type": "code",
   "execution_count": 156,
   "metadata": {},
   "outputs": [
    {
     "name": "stdout",
     "output_type": "stream",
     "text": [
      "\n",
      "bR bN bB bQ bK bB bN bR \n",
      "bp bp bp bp bp bp bp bp \n",
      "__ __ __ __ __ __ __ __ \n",
      "__ __ __ __ __ __ __ __ \n",
      "__ __ __ __ __ __ __ __ \n",
      "__ __ __ __ __ __ __ __ \n",
      "wp wp wp wp wp wp wp wp \n",
      "wR wN wB wQ wK wB wN wR "
     ]
    }
   ],
   "source": [
    "board = set_up_board(pieces)\n",
    "disp_board(board)"
   ]
  },
  {
   "cell_type": "markdown",
   "metadata": {},
   "source": [
    "### Pieces moves"
   ]
  },
  {
   "cell_type": "code",
   "execution_count": null,
   "metadata": {},
   "outputs": [],
   "source": []
  }
 ],
 "metadata": {
  "kernelspec": {
   "display_name": "Python 3",
   "language": "python",
   "name": "python3"
  },
  "language_info": {
   "codemirror_mode": {
    "name": "ipython",
    "version": 3
   },
   "file_extension": ".py",
   "mimetype": "text/x-python",
   "name": "python",
   "nbconvert_exporter": "python",
   "pygments_lexer": "ipython3",
   "version": "3.7.1"
  }
 },
 "nbformat": 4,
 "nbformat_minor": 2
}
