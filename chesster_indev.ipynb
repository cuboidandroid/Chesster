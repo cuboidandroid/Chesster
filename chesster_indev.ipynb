{
 "cells": [
  {
   "cell_type": "markdown",
   "metadata": {},
   "source": [
    "## The goal of this project is to develop chess program that can play chess and possibly to play it well. "
   ]
  },
  {
   "cell_type": "markdown",
   "metadata": {},
   "source": [
    "### Pieces locations in starting position"
   ]
  },
  {
   "cell_type": "code",
   "execution_count": 1,
   "metadata": {},
   "outputs": [],
   "source": [
    "pieces = {'wR1':bin(2**0), 'wp1':bin(2**8), 'bR1':bin(2**56), 'bp1':bin(2**48),\n",
    "          'wN1':bin(2**1), 'wp2':bin(2**9), 'bN1':bin(2**57), 'bp2':bin(2**49),\n",
    "          'wB1':bin(2**2), 'wp3':bin(2**10), 'bB1':bin(2**58), 'bp3':bin(2**50),\n",
    "          'wQ':bin(2**3), 'wp4':bin(2**11), 'bQ':bin(2**59), 'bp4':bin(2**51),\n",
    "          'wK':bin(2**4), 'wp5':bin(2**12), 'bK':bin(2**60), 'bp5':bin(2**52),\n",
    "          'wB2':bin(2**5), 'wp6':bin(2**13), 'bB2':bin(2**61), 'bp6':bin(2**53),\n",
    "          'wN2':bin(2**6), 'wp7':bin(2**14), 'bN2':bin(2**62), 'bp7':bin(2**54),\n",
    "          'wR2':bin(2**7), 'wp8':bin(2**15), 'bR2':bin(2**63), 'bp8':bin(2**55),\n",
    "         }"
   ]
  },
  {
   "cell_type": "markdown",
   "metadata": {},
   "source": [
    "### Chessboard visualisation"
   ]
  },
  {
   "cell_type": "code",
   "execution_count": 2,
   "metadata": {},
   "outputs": [],
   "source": [
    "import math\n",
    "import numpy as np"
   ]
  },
  {
   "cell_type": "code",
   "execution_count": 27,
   "metadata": {},
   "outputs": [],
   "source": [
    "def set_up_board(pieces_d): # pieces in dictionary\n",
    "    output = np.chararray((8,8), unicode=True, itemsize=2)\n",
    "    output[:] = '__'\n",
    "    for piece in pieces_d.keys():\n",
    "        num = math.log2(int(pieces_d[piece], 2))+1\n",
    "        output[(7-int(math.ceil(num/8)-1), int((num-1) % 8))] = piece\n",
    "    return output\n",
    "\n",
    "def mark_on_board(fields): #visualisation purposes - find legal moves etc.\n",
    "    output = np.chararray((8,8), unicode=True, itemsize=2)\n",
    "    output[:] = '__'\n",
    "    for field in fields:\n",
    "        num = math.log2(field)+1\n",
    "        output[(7-int(math.ceil(num/8)-1), int((num-1) % 8))] = '<>'\n",
    "    return output\n",
    "\n",
    "def disp_board(board):\n",
    "    for i in range(8):\n",
    "        print('')\n",
    "        for j in range(8):\n",
    "            print(board[(i,j)] + ' ', end='')"
   ]
  },
  {
   "cell_type": "code",
   "execution_count": 4,
   "metadata": {},
   "outputs": [
    {
     "name": "stdout",
     "output_type": "stream",
     "text": [
      "\n",
      "bR bN bB bQ bK bB bN bR \n",
      "bp bp bp bp bp bp bp bp \n",
      "__ __ __ __ __ __ __ __ \n",
      "__ __ __ __ __ __ __ __ \n",
      "__ __ __ __ __ __ __ __ \n",
      "__ __ __ __ __ __ __ __ \n",
      "wp wp wp wp wp wp wp wp \n",
      "wR wN wB wQ wK wB wN wR "
     ]
    }
   ],
   "source": [
    "board = set_up_board(pieces)\n",
    "disp_board(board)"
   ]
  },
  {
   "cell_type": "markdown",
   "metadata": {},
   "source": [
    "### Pieces moves"
   ]
  },
  {
   "cell_type": "code",
   "execution_count": 411,
   "metadata": {},
   "outputs": [],
   "source": [
    "def bishop_pattern(placement): \n",
    "    \n",
    "    move_span = []\n",
    "    num = int(math.log2(placement))\n",
    "    perm = np.array([1,1,1,1])\n",
    "    \n",
    "    #board edges\n",
    "    lower_b = [0,1,2,3,4,5,6,7]\n",
    "    upper_b = [56,57,58,59,60,61,62,63]\n",
    "    left_b = [0,8,16,24,32,40,48,56]\n",
    "    right_b = [7,15,23,31,39,47,55,63]\n",
    "    \n",
    "    #find if ur on the edge of board\n",
    "    if num in lower_b:\n",
    "        perm = perm & [1,1,0,0]\n",
    "        \n",
    "    if num in upper_b:\n",
    "        perm = perm & [0,0,1,1]\n",
    "        \n",
    "    if num in left_b:\n",
    "        perm = perm & [0,1,0,1]\n",
    "        \n",
    "    if num in right_b:\n",
    "        perm = perm & [1,0,1,0]\n",
    "    \n",
    "    #search in allowed directions\n",
    "    for i in range(1,8):\n",
    "        \n",
    "        if perm[0]:\n",
    "            up_left = placement << 7*i\n",
    "            move_span.append(up_left)\n",
    "            if int(math.log2(up_left)) in upper_b + left_b:\n",
    "                perm[0] = 0\n",
    "            \n",
    "        if perm[1]:\n",
    "            up_right = placement << 9*i\n",
    "            move_span.append(up_right)\n",
    "            if int(math.log2(up_right)) in upper_b + right_b:\n",
    "                perm[1] = 0\n",
    "        \n",
    "        if perm[2]:\n",
    "            down_left = placement >> 9*i\n",
    "            move_span.append(down_left)\n",
    "            if int(math.log2(down_left)) in lower_b + left_b:\n",
    "                perm[2] = 0\n",
    "            \n",
    "        if perm[3]:\n",
    "            down_right = placement >> 7*i\n",
    "            move_span.append(down_right)\n",
    "            if int(math.log2(down_right)) in lower_b + right_b:\n",
    "                perm[3] = 0\n",
    "                \n",
    "    return move_span    "
   ]
  },
  {
   "cell_type": "code",
   "execution_count": 422,
   "metadata": {},
   "outputs": [
    {
     "name": "stdout",
     "output_type": "stream",
     "text": [
      "\n",
      "__ __ __ __ __ __ __ <> \n",
      "__ __ __ __ __ __ <> __ \n",
      "__ __ __ __ __ <> __ __ \n",
      "<> __ __ __ <> __ __ __ \n",
      "__ <> __ <> __ __ __ __ \n",
      "__ __ __ __ __ __ __ __ \n",
      "__ <> __ <> __ __ __ __ \n",
      "<> __ __ __ <> __ __ __ "
     ]
    }
   ],
   "source": [
    "disp_board(mark_on_board(bishop_pattern(2**18)))"
   ]
  },
  {
   "cell_type": "code",
   "execution_count": 417,
   "metadata": {},
   "outputs": [],
   "source": [
    "def rook_pattern(placement):    \n",
    "    move_span = []\n",
    "    placenum = int(math.log2(placement))\n",
    "    start = placenum - placenum % 8\n",
    "    \n",
    "    #vertical line\n",
    "    for i in range(1,8): \n",
    "        if placement << 8*i <= 2**63:\n",
    "            move_span.append(placement << 8*i)\n",
    "        if placement >> 8*i >= 1:\n",
    "            move_span.append(placement >> 8*i)\n",
    "    \n",
    "    #horizontal line\n",
    "    for i in range(0,8):\n",
    "         move_span.append(2**start << i)\n",
    "        \n",
    "    return move_span"
   ]
  },
  {
   "cell_type": "code",
   "execution_count": 421,
   "metadata": {},
   "outputs": [
    {
     "name": "stdout",
     "output_type": "stream",
     "text": [
      "\n",
      "__ __ __ __ __ __ <> __ \n",
      "__ __ __ __ __ __ <> __ \n",
      "__ __ __ __ __ __ <> __ \n",
      "__ __ __ __ __ __ <> __ \n",
      "__ __ __ __ __ __ <> __ \n",
      "__ __ __ __ __ __ <> __ \n",
      "<> <> <> <> <> <> <> <> \n",
      "__ __ __ __ __ __ <> __ "
     ]
    }
   ],
   "source": [
    "disp_board(mark_on_board(rook_pattern(2**14)))"
   ]
  },
  {
   "cell_type": "code",
   "execution_count": 423,
   "metadata": {},
   "outputs": [],
   "source": [
    "def queen_pattern(placement):\n",
    "    return list(set(rook_pattern(placement) + bishop_pattern(placement)))"
   ]
  },
  {
   "cell_type": "code",
   "execution_count": 429,
   "metadata": {},
   "outputs": [
    {
     "name": "stdout",
     "output_type": "stream",
     "text": [
      "\n",
      "__ <> __ <> __ <> __ __ \n",
      "__ __ <> <> <> __ __ __ \n",
      "<> <> <> <> <> <> <> <> \n",
      "__ __ <> <> <> __ __ __ \n",
      "__ <> __ <> __ <> __ __ \n",
      "<> __ __ <> __ __ <> __ \n",
      "__ __ __ <> __ __ __ <> \n",
      "__ __ __ <> __ __ __ __ "
     ]
    }
   ],
   "source": [
    "disp_board(mark_on_board(queen_pattern(2**43)))"
   ]
  },
  {
   "cell_type": "code",
   "execution_count": null,
   "metadata": {},
   "outputs": [],
   "source": []
  }
 ],
 "metadata": {
  "kernelspec": {
   "display_name": "Python 3",
   "language": "python",
   "name": "python3"
  },
  "language_info": {
   "codemirror_mode": {
    "name": "ipython",
    "version": 3
   },
   "file_extension": ".py",
   "mimetype": "text/x-python",
   "name": "python",
   "nbconvert_exporter": "python",
   "pygments_lexer": "ipython3",
   "version": "3.7.1"
  }
 },
 "nbformat": 4,
 "nbformat_minor": 2
}
